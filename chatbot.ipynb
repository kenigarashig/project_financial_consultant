{
 "cells": [
  {
   "cell_type": "code",
   "execution_count": 1,
   "metadata": {},
   "outputs": [
    {
     "data": {
      "text/plain": [
       "True"
      ]
     },
     "execution_count": 1,
     "metadata": {},
     "output_type": "execute_result"
    }
   ],
   "source": [
    "from langchain_openai import ChatOpenAI\n",
    "import os\n",
    "from dotenv import load_dotenv\n",
    "load_dotenv()"
   ]
  },
  {
   "cell_type": "markdown",
   "metadata": {},
   "source": [
    "gpt-3.5-turbo: ~$0.0015 per 1,000 tokens (input) and ~$0.002 per 1,000 tokens (output).\n",
    "\n",
    "\n",
    "gpt-4: ~$0.03 per 1,000 tokens (input) and ~$0.06 per 1,000 tokens (output)."
   ]
  },
  {
   "cell_type": "code",
   "execution_count": 2,
   "metadata": {},
   "outputs": [
    {
     "name": "stdout",
     "output_type": "stream",
     "text": [
      "GPT Model Initialized\n"
     ]
    }
   ],
   "source": [
    "model_gpt = \"gpt-3.5-turbo\"\n",
    "api_key = os.getenv(\"OPENAI_API_KEY\")\n",
    "\n",
    "llm = ChatOpenAI(\n",
    "    model=model_gpt, \n",
    "    temperature=0.4, # Increase creativity\n",
    "    max_tokens=2000, # Allow for longer responses\n",
    "    frequency_penalty=0.5, # Reduce repetition\n",
    "    presence_penalty=0.6, # Encourage new topics \n",
    "    api_key=api_key\n",
    ")\n",
    "print(\"GPT Model Initialized\")"
   ]
  },
  {
   "cell_type": "code",
   "execution_count": 3,
   "metadata": {},
   "outputs": [],
   "source": [
    "from langchain.prompts import PromptTemplate"
   ]
  },
  {
   "cell_type": "code",
   "execution_count": 4,
   "metadata": {},
   "outputs": [],
   "source": [
    "prompt = PromptTemplate(\n",
    "    input_variables=[\"input\", \"agent_scratchpad\"],\n",
    "     template=(\n",
    "        \"You are a professional financial advisor. Your job is to provide clear, actionable advice \"\n",
    "        \"based on the client's financial situation and goals. Use available tools and data sources \"\n",
    "        \"to ensure accurate answers.\\n\\n\"\n",
    "        \"Client Question: {client_question}\\n\\n\"\n",
    "        \"Agent's Scratchpad:\\n{agent_scratchpad}\"\n",
    "    )\n",
    ")"
   ]
  },
  {
   "cell_type": "code",
   "execution_count": 5,
   "metadata": {},
   "outputs": [],
   "source": [
    "from langchain import hub"
   ]
  },
  {
   "cell_type": "code",
   "execution_count": 6,
   "metadata": {},
   "outputs": [
    {
     "name": "stderr",
     "output_type": "stream",
     "text": [
      "USER_AGENT environment variable not set, consider setting it to identify your requests.\n"
     ]
    }
   ],
   "source": [
    "from langchain_community.document_loaders import WebBaseLoader\n",
    "from langchain_text_splitters import RecursiveCharacterTextSplitter"
   ]
  },
  {
   "cell_type": "code",
   "execution_count": 7,
   "metadata": {},
   "outputs": [],
   "source": [
    "from langchain.document_loaders import PyPDFLoader"
   ]
  },
  {
   "cell_type": "code",
   "execution_count": 8,
   "metadata": {},
   "outputs": [],
   "source": [
    "from langchain.agents import AgentExecutor\n",
    "from IPython.display import display, Markdown"
   ]
  },
  {
   "cell_type": "code",
   "execution_count": 9,
   "metadata": {},
   "outputs": [
    {
     "name": "stdout",
     "output_type": "stream",
     "text": [
      "A-Random-Walk-Down-Wall-Street.pdf\n",
      "C:/Users/igara/prediction_proyect_st/books\\A-Random-Walk-Down-Wall-Street.pdf\n",
      "Loaded and split 566 document chunks.\n",
      "Common-Stocks-and-Uncommon-Profits-Philip-Fisher.pdf\n",
      "C:/Users/igara/prediction_proyect_st/books\\Common-Stocks-and-Uncommon-Profits-Philip-Fisher.pdf\n",
      "Loaded and split 878 document chunks.\n",
      "Economics-in-One-Lesson_2.pdf\n",
      "C:/Users/igara/prediction_proyect_st/books\\Economics-in-One-Lesson_2.pdf\n",
      "Loaded and split 1081 document chunks.\n",
      "Personal Financial Planning Guide.pdf\n",
      "C:/Users/igara/prediction_proyect_st/books\\Personal Financial Planning Guide.pdf\n",
      "Loaded and split 1635 document chunks.\n",
      "principles-for-navigating-big-debt-crises-by-ray-dalio.pdf\n",
      "C:/Users/igara/prediction_proyect_st/books\\principles-for-navigating-big-debt-crises-by-ray-dalio.pdf\n",
      "Loaded and split 2091 document chunks.\n",
      "The Millionaire Next Door (Thomas J. Stanley, William D. Danko).pdf\n",
      "C:/Users/igara/prediction_proyect_st/books\\The Millionaire Next Door (Thomas J. Stanley, William D. Danko).pdf\n",
      "Loaded and split 2387 document chunks.\n"
     ]
    }
   ],
   "source": [
    "folder_dir=\"C:/Users/igara/prediction_proyect_st/books\"\n",
    "all_documents=[]\n",
    "# docs = loader.load()\n",
    "for file in os.listdir(folder_dir):\n",
    "    print(file)\n",
    "    file_path=os.path.join(folder_dir,file)\n",
    "    print(file_path)\n",
    "    loader=PyPDFLoader(file_path)\n",
    "    docs = loader.load()\n",
    "        # Split the document into chunks\n",
    "    documents = RecursiveCharacterTextSplitter(\n",
    "    chunk_size=10000, \n",
    "    chunk_overlap=0\n",
    "    ).split_documents(docs)\n",
    "    all_documents.extend(documents)\n",
    "\n",
    "    print(f\"Loaded and split {len(all_documents)} document chunks.\")"
   ]
  },
  {
   "cell_type": "code",
   "execution_count": 10,
   "metadata": {},
   "outputs": [],
   "source": [
    "from langchain_community.vectorstores import FAISS\n",
    "from langchain_openai import OpenAIEmbeddings"
   ]
  },
  {
   "cell_type": "code",
   "execution_count": 11,
   "metadata": {},
   "outputs": [
    {
     "name": "stdout",
     "output_type": "stream",
     "text": [
      "Vector store created and retriever initialized.\n"
     ]
    }
   ],
   "source": [
    "vector = FAISS.from_documents(all_documents, OpenAIEmbeddings(api_key=api_key))\n",
    "retriever = vector.as_retriever()\n",
    "print(\"Vector store created and retriever initialized.\")"
   ]
  },
  {
   "cell_type": "code",
   "execution_count": 12,
   "metadata": {},
   "outputs": [],
   "source": [
    "from langchain_community.tools import DuckDuckGoSearchRun"
   ]
  },
  {
   "cell_type": "code",
   "execution_count": 13,
   "metadata": {},
   "outputs": [],
   "source": [
    "search = DuckDuckGoSearchRun()"
   ]
  },
  {
   "cell_type": "code",
   "execution_count": 14,
   "metadata": {},
   "outputs": [],
   "source": [
    "from langchain.tools.retriever import create_retriever_tool"
   ]
  },
  {
   "cell_type": "code",
   "execution_count": 15,
   "metadata": {},
   "outputs": [],
   "source": [
    "retriever_tool = create_retriever_tool(\n",
    "    retriever,\n",
    "    \"langsmith_search\",\n",
    "    \"Search for relevant information from the documents. Use this tool for any document-related questions of finance.\",\n",
    ")"
   ]
  },
  {
   "cell_type": "code",
   "execution_count": 16,
   "metadata": {},
   "outputs": [],
   "source": [
    "tools = [search, retriever_tool]"
   ]
  },
  {
   "cell_type": "code",
   "execution_count": 17,
   "metadata": {},
   "outputs": [],
   "source": [
    "from langchain.agents import create_tool_calling_agent"
   ]
  },
  {
   "cell_type": "code",
   "execution_count": 18,
   "metadata": {},
   "outputs": [],
   "source": [
    "agent = create_tool_calling_agent(\n",
    "    llm=llm, \n",
    "    tools=tools, \n",
    "    prompt=prompt)"
   ]
  },
  {
   "cell_type": "code",
   "execution_count": 19,
   "metadata": {},
   "outputs": [],
   "source": [
    "agent_executor = AgentExecutor(agent=agent, tools=tools, verbose=True)"
   ]
  },
  {
   "cell_type": "code",
   "execution_count": 20,
   "metadata": {},
   "outputs": [],
   "source": [
    "# query = \"What are the key phases of a debt crisis, as described by Ray Dalio?\"\n",
    "# response = agent_executor.invoke({\"client_question\": query})\n",
    "# print(query, response)"
   ]
  }
 ],
 "metadata": {
  "kernelspec": {
   "display_name": "env_3.10",
   "language": "python",
   "name": "python3"
  },
  "language_info": {
   "codemirror_mode": {
    "name": "ipython",
    "version": 3
   },
   "file_extension": ".py",
   "mimetype": "text/x-python",
   "name": "python",
   "nbconvert_exporter": "python",
   "pygments_lexer": "ipython3",
   "version": "3.10.10"
  }
 },
 "nbformat": 4,
 "nbformat_minor": 2
}
